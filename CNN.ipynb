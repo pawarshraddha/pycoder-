{
 "cells": [
  {
   "cell_type": "code",
   "execution_count": null,
   "id": "joined-browser",
   "metadata": {},
   "outputs": [],
   "source": []
  },
  {
   "cell_type": "code",
   "execution_count": 1,
   "id": "pharmaceutical-ferry",
   "metadata": {},
   "outputs": [],
   "source": [
    "import librosa\n",
    "from librosa import display\n",
    "import numpy as np\n",
    "from silence_tensorflow import silence_tensorflow\n",
    "silence_tensorflow()"
   ]
  },
  {
   "cell_type": "code",
   "execution_count": 2,
   "id": "brief-leave",
   "metadata": {},
   "outputs": [
    {
     "name": "stderr",
     "output_type": "stream",
     "text": [
      "UsageError: Line magic function `%` not found.\n"
     ]
    }
   ],
   "source": [
    "% pylab inline\n",
    "import matplotlib.pyplot as plt"
   ]
  },
  {
   "cell_type": "code",
   "execution_count": 3,
   "id": "knowing-eagle",
   "metadata": {},
   "outputs": [
    {
     "name": "stdout",
     "output_type": "stream",
     "text": [
      "--- Data loaded. Loading time: 232.21552324295044 seconds ---\n"
     ]
    }
   ],
   "source": [
    "import time\n",
    "import os\n",
    "path = 'audio_speech_actors_01-26/'\n",
    "lst = []\n",
    "\n",
    "start_time = time.time()\n",
    "\n",
    "for subdir, dirs, files in os.walk(path):\n",
    "  for file in files:\n",
    "      try:\n",
    "        #Load librosa array, obtain mfcss, store the file and the mcss information in a new array\n",
    "        X, sample_rate = librosa.load(os.path.join(subdir,file), res_type='kaiser_fast')\n",
    "        mfccs = np.mean(librosa.feature.mfcc(y=X, sr=sample_rate, n_mfcc=40).T,axis=0) \n",
    "        # The instruction below converts the labels (from 1 to 8) to a series from 0 to 7\n",
    "        # This is because our predictor needs to start from 0 otherwise it will try to predict also 0.\n",
    "        file = int(file[7:8]) - 1 \n",
    "        arr = mfccs, file\n",
    "        lst.append(arr)\n",
    "      # If the file is not valid, skip it\n",
    "      except ValueError:\n",
    "        continue\n",
    "\n",
    "print(\"--- Data loaded. Loading time: %s seconds ---\" % (time.time() - start_time))"
   ]
  },
  {
   "cell_type": "code",
   "execution_count": 4,
   "id": "personal-deposit",
   "metadata": {},
   "outputs": [],
   "source": [
    "# Creating X and y: zip makes a list of all the first elements, and a list of all the second elements.\n",
    "X, y = zip(*lst)"
   ]
  },
  {
   "cell_type": "code",
   "execution_count": 5,
   "id": "institutional-regression",
   "metadata": {},
   "outputs": [
    {
     "data": {
      "text/plain": [
       "((8052, 40), (8052,))"
      ]
     },
     "execution_count": 5,
     "metadata": {},
     "output_type": "execute_result"
    }
   ],
   "source": [
    "X = np.asarray(X)\n",
    "y = np.asarray(y)\n",
    "\n",
    "\n",
    "X.shape, y.shape"
   ]
  },
  {
   "cell_type": "code",
   "execution_count": 6,
   "id": "inappropriate-campus",
   "metadata": {},
   "outputs": [],
   "source": [
    "from sklearn.model_selection import train_test_split\n",
    "\n",
    "X_train, X_test, y_train, y_test = train_test_split(X,y, test_size=0.33, random_state=42)"
   ]
  },
  {
   "cell_type": "code",
   "execution_count": 7,
   "id": "little-italy",
   "metadata": {},
   "outputs": [],
   "source": [
    "x_traincnn = np.expand_dims(X_train, axis=2)\n",
    "x_testcnn = np.expand_dims(X_test, axis=2)"
   ]
  },
  {
   "cell_type": "code",
   "execution_count": 8,
   "id": "incorporated-campaign",
   "metadata": {},
   "outputs": [
    {
     "data": {
      "text/plain": [
       "((5394, 40, 1), (2658, 40, 1))"
      ]
     },
     "execution_count": 8,
     "metadata": {},
     "output_type": "execute_result"
    }
   ],
   "source": [
    "x_traincnn.shape, x_testcnn.shape"
   ]
  },
  {
   "cell_type": "code",
   "execution_count": 9,
   "id": "freelance-austin",
   "metadata": {},
   "outputs": [
    {
     "name": "stderr",
     "output_type": "stream",
     "text": [
      "In C:\\Users\\GPI\\anaconda3\\envs\\ser\\lib\\site-packages\\matplotlib\\mpl-data\\stylelib\\_classic_test.mplstyle: \n",
      "The text.latex.preview rcparam was deprecated in Matplotlib 3.3 and will be removed two minor releases later.\n",
      "In C:\\Users\\GPI\\anaconda3\\envs\\ser\\lib\\site-packages\\matplotlib\\mpl-data\\stylelib\\_classic_test.mplstyle: \n",
      "The mathtext.fallback_to_cm rcparam was deprecated in Matplotlib 3.3 and will be removed two minor releases later.\n",
      "In C:\\Users\\GPI\\anaconda3\\envs\\ser\\lib\\site-packages\\matplotlib\\mpl-data\\stylelib\\_classic_test.mplstyle: Support for setting the 'mathtext.fallback_to_cm' rcParam is deprecated since 3.3 and will be removed two minor releases later; use 'mathtext.fallback : 'cm' instead.\n",
      "In C:\\Users\\GPI\\anaconda3\\envs\\ser\\lib\\site-packages\\matplotlib\\mpl-data\\stylelib\\_classic_test.mplstyle: \n",
      "The validate_bool_maybe_none function was deprecated in Matplotlib 3.3 and will be removed two minor releases later.\n",
      "In C:\\Users\\GPI\\anaconda3\\envs\\ser\\lib\\site-packages\\matplotlib\\mpl-data\\stylelib\\_classic_test.mplstyle: \n",
      "The savefig.jpeg_quality rcparam was deprecated in Matplotlib 3.3 and will be removed two minor releases later.\n",
      "In C:\\Users\\GPI\\anaconda3\\envs\\ser\\lib\\site-packages\\matplotlib\\mpl-data\\stylelib\\_classic_test.mplstyle: \n",
      "The keymap.all_axes rcparam was deprecated in Matplotlib 3.3 and will be removed two minor releases later.\n",
      "In C:\\Users\\GPI\\anaconda3\\envs\\ser\\lib\\site-packages\\matplotlib\\mpl-data\\stylelib\\_classic_test.mplstyle: \n",
      "The animation.avconv_path rcparam was deprecated in Matplotlib 3.3 and will be removed two minor releases later.\n",
      "In C:\\Users\\GPI\\anaconda3\\envs\\ser\\lib\\site-packages\\matplotlib\\mpl-data\\stylelib\\_classic_test.mplstyle: \n",
      "The animation.avconv_args rcparam was deprecated in Matplotlib 3.3 and will be removed two minor releases later.\n"
     ]
    }
   ],
   "source": [
    "import keras\n",
    "import numpy as np\n",
    "import matplotlib.pyplot as plt\n",
    "import tensorflow as tf\n",
    "from keras.preprocessing import sequence\n",
    "from keras.models import Sequential\n",
    "from keras.layers import Dense, Embedding\n",
    "from keras.utils import to_categorical\n",
    "from keras.layers import Input, Flatten, Dropout, Activation\n",
    "from keras.layers import Conv1D, MaxPooling1D\n",
    "from keras.models import Model\n",
    "from keras.callbacks import ModelCheckpoint\n",
    "\n",
    "model = Sequential()\n",
    "\n",
    "model.add(Conv1D(64, 5,padding='same',\n",
    "                 input_shape=(40,1)))\n",
    "model.add(Activation('relu'))\n",
    "model.add(Dropout(0.1))\n",
    "model.add(MaxPooling1D(pool_size=(4)))\n",
    "model.add(Conv1D(128, 5,padding='same',))\n",
    "model.add(Activation('relu'))\n",
    "model.add(Dropout(0.1))\n",
    "model.add(MaxPooling1D(pool_size=(4)))\n",
    "model.add(Conv1D(256, 5,padding='same',))\n",
    "model.add(Activation('relu'))\n",
    "model.add(Dropout(0.1))\n",
    "model.add(Flatten())\n",
    "model.add(Dense(8))\n",
    "model.add(Activation('softmax'))\n",
    "opt = keras.optimizers.RMSprop(lr=0.00005, rho=0.9, epsilon=1e-07, decay=0.0)"
   ]
  },
  {
   "cell_type": "code",
   "execution_count": 10,
   "id": "unknown-wholesale",
   "metadata": {},
   "outputs": [
    {
     "name": "stdout",
     "output_type": "stream",
     "text": [
      "Model: \"sequential\"\n",
      "_________________________________________________________________\n",
      "Layer (type)                 Output Shape              Param #   \n",
      "=================================================================\n",
      "conv1d (Conv1D)              (None, 40, 64)            384       \n",
      "_________________________________________________________________\n",
      "activation (Activation)      (None, 40, 64)            0         \n",
      "_________________________________________________________________\n",
      "dropout (Dropout)            (None, 40, 64)            0         \n",
      "_________________________________________________________________\n",
      "max_pooling1d (MaxPooling1D) (None, 10, 64)            0         \n",
      "_________________________________________________________________\n",
      "conv1d_1 (Conv1D)            (None, 10, 128)           41088     \n",
      "_________________________________________________________________\n",
      "activation_1 (Activation)    (None, 10, 128)           0         \n",
      "_________________________________________________________________\n",
      "dropout_1 (Dropout)          (None, 10, 128)           0         \n",
      "_________________________________________________________________\n",
      "max_pooling1d_1 (MaxPooling1 (None, 2, 128)            0         \n",
      "_________________________________________________________________\n",
      "conv1d_2 (Conv1D)            (None, 2, 256)            164096    \n",
      "_________________________________________________________________\n",
      "activation_2 (Activation)    (None, 2, 256)            0         \n",
      "_________________________________________________________________\n",
      "dropout_2 (Dropout)          (None, 2, 256)            0         \n",
      "_________________________________________________________________\n",
      "flatten (Flatten)            (None, 512)               0         \n",
      "_________________________________________________________________\n",
      "dense (Dense)                (None, 8)                 4104      \n",
      "_________________________________________________________________\n",
      "activation_3 (Activation)    (None, 8)                 0         \n",
      "=================================================================\n",
      "Total params: 209,672\n",
      "Trainable params: 209,672\n",
      "Non-trainable params: 0\n",
      "_________________________________________________________________\n"
     ]
    }
   ],
   "source": [
    "model.summary()"
   ]
  },
  {
   "cell_type": "code",
   "execution_count": 11,
   "id": "exceptional-monitoring",
   "metadata": {},
   "outputs": [],
   "source": [
    "model.compile(loss='sparse_categorical_crossentropy',\n",
    "              optimizer=opt,\n",
    "              metrics=['accuracy'])"
   ]
  },
  {
   "cell_type": "code",
   "execution_count": 12,
   "id": "fresh-consolidation",
   "metadata": {},
   "outputs": [
    {
     "name": "stdout",
     "output_type": "stream",
     "text": [
      "Epoch 1/200\n",
      "338/338 [==============================] - 2s 5ms/step - loss: 2.9230 - accuracy: 0.2703 - val_loss: 1.4801 - val_accuracy: 0.4857\n",
      "Epoch 2/200\n",
      "338/338 [==============================] - 1s 4ms/step - loss: 1.6433 - accuracy: 0.4931 - val_loss: 1.2409 - val_accuracy: 0.5730\n",
      "Epoch 3/200\n",
      "338/338 [==============================] - 1s 4ms/step - loss: 1.2466 - accuracy: 0.6110 - val_loss: 0.8911 - val_accuracy: 0.7058\n",
      "Epoch 4/200\n",
      "338/338 [==============================] - 1s 4ms/step - loss: 1.0472 - accuracy: 0.6598 - val_loss: 0.8624 - val_accuracy: 0.7178\n",
      "Epoch 5/200\n",
      "338/338 [==============================] - 1s 4ms/step - loss: 0.9223 - accuracy: 0.6989 - val_loss: 0.7841 - val_accuracy: 0.7400\n",
      "Epoch 6/200\n",
      "338/338 [==============================] - 1s 4ms/step - loss: 0.8451 - accuracy: 0.7204 - val_loss: 0.7335 - val_accuracy: 0.7423\n",
      "Epoch 7/200\n",
      "338/338 [==============================] - 1s 4ms/step - loss: 0.7842 - accuracy: 0.7314 - val_loss: 0.6869 - val_accuracy: 0.7464\n",
      "Epoch 8/200\n",
      "338/338 [==============================] - 1s 4ms/step - loss: 0.7453 - accuracy: 0.7469 - val_loss: 0.7011 - val_accuracy: 0.7442: 0s - loss: 0.7418 - accuracy: \n",
      "Epoch 9/200\n",
      "338/338 [==============================] - 1s 4ms/step - loss: 0.7021 - accuracy: 0.7608 - val_loss: 0.6500 - val_accuracy: 0.7585\n",
      "Epoch 10/200\n",
      "338/338 [==============================] - 1s 4ms/step - loss: 0.6682 - accuracy: 0.7638 - val_loss: 0.6066 - val_accuracy: 0.7871\n",
      "Epoch 11/200\n",
      "338/338 [==============================] - 1s 4ms/step - loss: 0.6444 - accuracy: 0.7671 - val_loss: 0.5850 - val_accuracy: 0.7837\n",
      "Epoch 12/200\n",
      "338/338 [==============================] - 1s 4ms/step - loss: 0.6234 - accuracy: 0.7773 - val_loss: 0.5565 - val_accuracy: 0.8036\n",
      "Epoch 13/200\n",
      "338/338 [==============================] - 1s 4ms/step - loss: 0.6048 - accuracy: 0.7783 - val_loss: 0.5952 - val_accuracy: 0.7852\n",
      "Epoch 14/200\n",
      "338/338 [==============================] - 1s 4ms/step - loss: 0.5950 - accuracy: 0.7792 - val_loss: 0.5445 - val_accuracy: 0.8010\n",
      "Epoch 15/200\n",
      "338/338 [==============================] - 1s 4ms/step - loss: 0.5719 - accuracy: 0.7959 - val_loss: 0.5264 - val_accuracy: 0.8123\n",
      "Epoch 16/200\n",
      "338/338 [==============================] - 1s 4ms/step - loss: 0.5648 - accuracy: 0.7914 - val_loss: 0.5197 - val_accuracy: 0.8085\n",
      "Epoch 17/200\n",
      "338/338 [==============================] - 1s 4ms/step - loss: 0.5483 - accuracy: 0.7977 - val_loss: 0.5116 - val_accuracy: 0.8074\n",
      "Epoch 18/200\n",
      "338/338 [==============================] - 1s 4ms/step - loss: 0.5466 - accuracy: 0.7955 - val_loss: 0.5375 - val_accuracy: 0.7912\n",
      "Epoch 19/200\n",
      "338/338 [==============================] - 1s 4ms/step - loss: 0.5359 - accuracy: 0.8000 - val_loss: 0.5224 - val_accuracy: 0.8044\n",
      "Epoch 20/200\n",
      "338/338 [==============================] - 1s 4ms/step - loss: 0.5294 - accuracy: 0.8079 - val_loss: 0.5000 - val_accuracy: 0.8111\n",
      "Epoch 21/200\n",
      "338/338 [==============================] - 1s 4ms/step - loss: 0.5295 - accuracy: 0.8020 - val_loss: 0.5038 - val_accuracy: 0.8209\n",
      "Epoch 22/200\n",
      "338/338 [==============================] - 1s 4ms/step - loss: 0.5127 - accuracy: 0.8094 - val_loss: 0.4866 - val_accuracy: 0.8153\n",
      "Epoch 23/200\n",
      "338/338 [==============================] - 1s 4ms/step - loss: 0.4938 - accuracy: 0.8154 - val_loss: 0.5148 - val_accuracy: 0.7942\n",
      "Epoch 24/200\n",
      "338/338 [==============================] - 1s 4ms/step - loss: 0.4990 - accuracy: 0.8181 - val_loss: 0.4754 - val_accuracy: 0.8262\n",
      "Epoch 25/200\n",
      "338/338 [==============================] - 1s 4ms/step - loss: 0.4978 - accuracy: 0.8178 - val_loss: 0.4812 - val_accuracy: 0.8164\n",
      "Epoch 26/200\n",
      "338/338 [==============================] - 1s 4ms/step - loss: 0.4883 - accuracy: 0.8205 - val_loss: 0.4664 - val_accuracy: 0.8205\n",
      "Epoch 27/200\n",
      "338/338 [==============================] - 1s 4ms/step - loss: 0.4806 - accuracy: 0.8224 - val_loss: 0.4898 - val_accuracy: 0.8123\n",
      "Epoch 28/200\n",
      "338/338 [==============================] - 1s 4ms/step - loss: 0.4787 - accuracy: 0.8246 - val_loss: 0.4544 - val_accuracy: 0.8236\n",
      "Epoch 29/200\n",
      "338/338 [==============================] - 1s 4ms/step - loss: 0.4653 - accuracy: 0.8255 - val_loss: 0.4618 - val_accuracy: 0.8239\n",
      "Epoch 30/200\n",
      "338/338 [==============================] - 1s 4ms/step - loss: 0.4506 - accuracy: 0.8326 - val_loss: 0.4411 - val_accuracy: 0.8382\n",
      "Epoch 31/200\n",
      "338/338 [==============================] - 1s 4ms/step - loss: 0.4524 - accuracy: 0.8315 - val_loss: 0.4496 - val_accuracy: 0.8352\n",
      "Epoch 32/200\n",
      "338/338 [==============================] - 1s 4ms/step - loss: 0.4434 - accuracy: 0.8393 - val_loss: 0.4455 - val_accuracy: 0.8394\n",
      "Epoch 33/200\n",
      "338/338 [==============================] - 1s 4ms/step - loss: 0.4411 - accuracy: 0.8356 - val_loss: 0.4247 - val_accuracy: 0.8488\n",
      "Epoch 34/200\n",
      "338/338 [==============================] - 1s 4ms/step - loss: 0.4350 - accuracy: 0.8419 - val_loss: 0.4389 - val_accuracy: 0.8378\n",
      "Epoch 35/200\n",
      "338/338 [==============================] - 1s 4ms/step - loss: 0.4386 - accuracy: 0.8391 - val_loss: 0.4282 - val_accuracy: 0.8401\n",
      "Epoch 36/200\n",
      "338/338 [==============================] - 1s 4ms/step - loss: 0.4340 - accuracy: 0.8411 - val_loss: 0.4318 - val_accuracy: 0.8348\n",
      "Epoch 37/200\n",
      "338/338 [==============================] - 1s 4ms/step - loss: 0.4263 - accuracy: 0.8391 - val_loss: 0.4201 - val_accuracy: 0.8465\n",
      "Epoch 38/200\n",
      "338/338 [==============================] - 1s 4ms/step - loss: 0.4173 - accuracy: 0.8439 - val_loss: 0.4300 - val_accuracy: 0.8378\n",
      "Epoch 39/200\n",
      "338/338 [==============================] - 1s 4ms/step - loss: 0.4108 - accuracy: 0.8480 - val_loss: 0.4268 - val_accuracy: 0.8401\n",
      "Epoch 40/200\n",
      "338/338 [==============================] - 1s 4ms/step - loss: 0.4131 - accuracy: 0.8471 - val_loss: 0.4273 - val_accuracy: 0.8394\n",
      "Epoch 41/200\n",
      "338/338 [==============================] - 1s 4ms/step - loss: 0.4130 - accuracy: 0.8484 - val_loss: 0.4088 - val_accuracy: 0.8476\n",
      "Epoch 42/200\n",
      "338/338 [==============================] - 1s 4ms/step - loss: 0.4010 - accuracy: 0.8521 - val_loss: 0.4037 - val_accuracy: 0.8499\n",
      "Epoch 43/200\n",
      "338/338 [==============================] - 1s 4ms/step - loss: 0.4022 - accuracy: 0.8541 - val_loss: 0.3977 - val_accuracy: 0.8533\n",
      "Epoch 44/200\n",
      "338/338 [==============================] - 1s 4ms/step - loss: 0.3980 - accuracy: 0.8571 - val_loss: 0.4054 - val_accuracy: 0.8484\n",
      "Epoch 45/200\n",
      "338/338 [==============================] - 1s 4ms/step - loss: 0.3945 - accuracy: 0.8522 - val_loss: 0.3995 - val_accuracy: 0.8461\n",
      "Epoch 46/200\n",
      "338/338 [==============================] - 1s 4ms/step - loss: 0.3931 - accuracy: 0.8560 - val_loss: 0.4118 - val_accuracy: 0.8476\n",
      "Epoch 47/200\n",
      "338/338 [==============================] - 1s 3ms/step - loss: 0.3875 - accuracy: 0.8563 - val_loss: 0.3913 - val_accuracy: 0.8563\n",
      "Epoch 48/200\n",
      "338/338 [==============================] - 1s 4ms/step - loss: 0.3860 - accuracy: 0.8584 - val_loss: 0.3997 - val_accuracy: 0.8525\n",
      "Epoch 49/200\n",
      "338/338 [==============================] - 1s 4ms/step - loss: 0.3786 - accuracy: 0.8619 - val_loss: 0.3910 - val_accuracy: 0.8533\n",
      "Epoch 50/200\n",
      "338/338 [==============================] - 1s 4ms/step - loss: 0.3806 - accuracy: 0.8610 - val_loss: 0.3826 - val_accuracy: 0.8585\n",
      "Epoch 51/200\n",
      "338/338 [==============================] - 1s 4ms/step - loss: 0.3688 - accuracy: 0.8647 - val_loss: 0.4052 - val_accuracy: 0.8510\n",
      "Epoch 52/200\n",
      "338/338 [==============================] - 1s 4ms/step - loss: 0.3664 - accuracy: 0.8663 - val_loss: 0.3854 - val_accuracy: 0.8600\n",
      "Epoch 53/200\n",
      "338/338 [==============================] - 1s 4ms/step - loss: 0.3686 - accuracy: 0.8669 - val_loss: 0.3903 - val_accuracy: 0.8548\n",
      "Epoch 54/200\n",
      "338/338 [==============================] - 1s 4ms/step - loss: 0.3670 - accuracy: 0.8661 - val_loss: 0.3985 - val_accuracy: 0.8480\n",
      "Epoch 55/200\n",
      "338/338 [==============================] - 1s 4ms/step - loss: 0.3666 - accuracy: 0.8676 - val_loss: 0.3956 - val_accuracy: 0.8525\n",
      "Epoch 56/200\n",
      "338/338 [==============================] - 1s 4ms/step - loss: 0.3662 - accuracy: 0.8595 - val_loss: 0.3855 - val_accuracy: 0.8619\n",
      "Epoch 57/200\n",
      "338/338 [==============================] - 1s 4ms/step - loss: 0.3583 - accuracy: 0.8667 - val_loss: 0.3690 - val_accuracy: 0.8627\n"
     ]
    },
    {
     "name": "stdout",
     "output_type": "stream",
     "text": [
      "Epoch 58/200\n",
      "338/338 [==============================] - 1s 4ms/step - loss: 0.3546 - accuracy: 0.8715 - val_loss: 0.3716 - val_accuracy: 0.8668\n",
      "Epoch 59/200\n",
      "338/338 [==============================] - 1s 4ms/step - loss: 0.3557 - accuracy: 0.8680 - val_loss: 0.3756 - val_accuracy: 0.8555\n",
      "Epoch 60/200\n",
      "338/338 [==============================] - 1s 4ms/step - loss: 0.3520 - accuracy: 0.8719 - val_loss: 0.3750 - val_accuracy: 0.8638\n",
      "Epoch 61/200\n",
      "338/338 [==============================] - 1s 4ms/step - loss: 0.3511 - accuracy: 0.8712 - val_loss: 0.3868 - val_accuracy: 0.8585\n",
      "Epoch 62/200\n",
      "338/338 [==============================] - 1s 4ms/step - loss: 0.3450 - accuracy: 0.8726 - val_loss: 0.3634 - val_accuracy: 0.8672\n",
      "Epoch 63/200\n",
      "338/338 [==============================] - 1s 4ms/step - loss: 0.3378 - accuracy: 0.8754 - val_loss: 0.3692 - val_accuracy: 0.8668\n",
      "Epoch 64/200\n",
      "338/338 [==============================] - 1s 4ms/step - loss: 0.3383 - accuracy: 0.8750 - val_loss: 0.3556 - val_accuracy: 0.8710\n",
      "Epoch 65/200\n",
      "338/338 [==============================] - 1s 4ms/step - loss: 0.3352 - accuracy: 0.8795 - val_loss: 0.3544 - val_accuracy: 0.8679\n",
      "Epoch 66/200\n",
      "338/338 [==============================] - 1s 4ms/step - loss: 0.3409 - accuracy: 0.8721 - val_loss: 0.3789 - val_accuracy: 0.8540\n",
      "Epoch 67/200\n",
      "338/338 [==============================] - 1s 4ms/step - loss: 0.3310 - accuracy: 0.8752 - val_loss: 0.3575 - val_accuracy: 0.8695\n",
      "Epoch 68/200\n",
      "338/338 [==============================] - 1s 4ms/step - loss: 0.3370 - accuracy: 0.8725 - val_loss: 0.3607 - val_accuracy: 0.8642\n",
      "Epoch 69/200\n",
      "338/338 [==============================] - 1s 4ms/step - loss: 0.3266 - accuracy: 0.8793 - val_loss: 0.3663 - val_accuracy: 0.8638\n",
      "Epoch 70/200\n",
      "338/338 [==============================] - 1s 4ms/step - loss: 0.3306 - accuracy: 0.8791 - val_loss: 0.3518 - val_accuracy: 0.8676\n",
      "Epoch 71/200\n",
      "338/338 [==============================] - 1s 4ms/step - loss: 0.3219 - accuracy: 0.8802 - val_loss: 0.3666 - val_accuracy: 0.8597\n",
      "Epoch 72/200\n",
      "338/338 [==============================] - 1s 4ms/step - loss: 0.3237 - accuracy: 0.8839 - val_loss: 0.3479 - val_accuracy: 0.8676\n",
      "Epoch 73/200\n",
      "338/338 [==============================] - 1s 4ms/step - loss: 0.3180 - accuracy: 0.8867 - val_loss: 0.3425 - val_accuracy: 0.8702\n",
      "Epoch 74/200\n",
      "338/338 [==============================] - 1s 4ms/step - loss: 0.3225 - accuracy: 0.8826 - val_loss: 0.3533 - val_accuracy: 0.8695\n",
      "Epoch 75/200\n",
      "338/338 [==============================] - 1s 4ms/step - loss: 0.3152 - accuracy: 0.8867 - val_loss: 0.3509 - val_accuracy: 0.8664\n",
      "Epoch 76/200\n",
      "338/338 [==============================] - 1s 4ms/step - loss: 0.3179 - accuracy: 0.8830 - val_loss: 0.3476 - val_accuracy: 0.8725\n",
      "Epoch 77/200\n",
      "338/338 [==============================] - 1s 4ms/step - loss: 0.3066 - accuracy: 0.8930 - val_loss: 0.3394 - val_accuracy: 0.8747\n",
      "Epoch 78/200\n",
      "338/338 [==============================] - 1s 4ms/step - loss: 0.3085 - accuracy: 0.8884 - val_loss: 0.3350 - val_accuracy: 0.8758\n",
      "Epoch 79/200\n",
      "338/338 [==============================] - 1s 4ms/step - loss: 0.3007 - accuracy: 0.8934 - val_loss: 0.3371 - val_accuracy: 0.8762\n",
      "Epoch 80/200\n",
      "338/338 [==============================] - 1s 4ms/step - loss: 0.3015 - accuracy: 0.8919 - val_loss: 0.3370 - val_accuracy: 0.8766\n",
      "Epoch 81/200\n",
      "338/338 [==============================] - 1s 4ms/step - loss: 0.3011 - accuracy: 0.8901 - val_loss: 0.3415 - val_accuracy: 0.8713\n",
      "Epoch 82/200\n",
      "338/338 [==============================] - 1s 4ms/step - loss: 0.3084 - accuracy: 0.8895 - val_loss: 0.3427 - val_accuracy: 0.8747\n",
      "Epoch 83/200\n",
      "338/338 [==============================] - 1s 4ms/step - loss: 0.3018 - accuracy: 0.8912 - val_loss: 0.3488 - val_accuracy: 0.8710\n",
      "Epoch 84/200\n",
      "338/338 [==============================] - 1s 4ms/step - loss: 0.2963 - accuracy: 0.8914 - val_loss: 0.3538 - val_accuracy: 0.8747\n",
      "Epoch 85/200\n",
      "338/338 [==============================] - 1s 4ms/step - loss: 0.2996 - accuracy: 0.8936 - val_loss: 0.3421 - val_accuracy: 0.8792\n",
      "Epoch 86/200\n",
      "338/338 [==============================] - 1s 4ms/step - loss: 0.2949 - accuracy: 0.8953 - val_loss: 0.3337 - val_accuracy: 0.8762\n",
      "Epoch 87/200\n",
      "338/338 [==============================] - 1s 4ms/step - loss: 0.2851 - accuracy: 0.8954 - val_loss: 0.3415 - val_accuracy: 0.8758\n",
      "Epoch 88/200\n",
      "338/338 [==============================] - 1s 4ms/step - loss: 0.2975 - accuracy: 0.8962 - val_loss: 0.3355 - val_accuracy: 0.8762\n",
      "Epoch 89/200\n",
      "338/338 [==============================] - 1s 4ms/step - loss: 0.2861 - accuracy: 0.8941 - val_loss: 0.3449 - val_accuracy: 0.8736\n",
      "Epoch 90/200\n",
      "338/338 [==============================] - 1s 4ms/step - loss: 0.2767 - accuracy: 0.9012 - val_loss: 0.3331 - val_accuracy: 0.8762\n",
      "Epoch 91/200\n",
      "338/338 [==============================] - 1s 4ms/step - loss: 0.2860 - accuracy: 0.8947 - val_loss: 0.3451 - val_accuracy: 0.8755\n",
      "Epoch 92/200\n",
      "338/338 [==============================] - 1s 4ms/step - loss: 0.2802 - accuracy: 0.9012 - val_loss: 0.3283 - val_accuracy: 0.8751\n",
      "Epoch 93/200\n",
      "338/338 [==============================] - 1s 4ms/step - loss: 0.2823 - accuracy: 0.9010 - val_loss: 0.3515 - val_accuracy: 0.8661\n",
      "Epoch 94/200\n",
      "338/338 [==============================] - 1s 4ms/step - loss: 0.2770 - accuracy: 0.8984 - val_loss: 0.3336 - val_accuracy: 0.8830\n",
      "Epoch 95/200\n",
      "338/338 [==============================] - 1s 4ms/step - loss: 0.2766 - accuracy: 0.8986 - val_loss: 0.3208 - val_accuracy: 0.8792\n",
      "Epoch 96/200\n",
      "338/338 [==============================] - 1s 4ms/step - loss: 0.2736 - accuracy: 0.8973 - val_loss: 0.3206 - val_accuracy: 0.8826\n",
      "Epoch 97/200\n",
      "338/338 [==============================] - 1s 4ms/step - loss: 0.2769 - accuracy: 0.9034 - val_loss: 0.3268 - val_accuracy: 0.8807\n",
      "Epoch 98/200\n",
      "338/338 [==============================] - 1s 4ms/step - loss: 0.2744 - accuracy: 0.9003 - val_loss: 0.3260 - val_accuracy: 0.8796\n",
      "Epoch 99/200\n",
      "338/338 [==============================] - 1s 4ms/step - loss: 0.2701 - accuracy: 0.9001 - val_loss: 0.3358 - val_accuracy: 0.8710\n",
      "Epoch 100/200\n",
      "338/338 [==============================] - 1s 4ms/step - loss: 0.2685 - accuracy: 0.9042 - val_loss: 0.3235 - val_accuracy: 0.8815\n",
      "Epoch 101/200\n",
      "338/338 [==============================] - 1s 4ms/step - loss: 0.2788 - accuracy: 0.8967 - val_loss: 0.3233 - val_accuracy: 0.8804\n",
      "Epoch 102/200\n",
      "338/338 [==============================] - 1s 4ms/step - loss: 0.2698 - accuracy: 0.9017 - val_loss: 0.3327 - val_accuracy: 0.8804\n",
      "Epoch 103/200\n",
      "338/338 [==============================] - 1s 4ms/step - loss: 0.2688 - accuracy: 0.9053 - val_loss: 0.3455 - val_accuracy: 0.8762\n",
      "Epoch 104/200\n",
      "338/338 [==============================] - 1s 4ms/step - loss: 0.2626 - accuracy: 0.9062 - val_loss: 0.3264 - val_accuracy: 0.8781\n",
      "Epoch 105/200\n",
      "338/338 [==============================] - 1s 4ms/step - loss: 0.2587 - accuracy: 0.9080 - val_loss: 0.3295 - val_accuracy: 0.8796\n",
      "Epoch 106/200\n",
      "338/338 [==============================] - 1s 4ms/step - loss: 0.2572 - accuracy: 0.9088 - val_loss: 0.3362 - val_accuracy: 0.8777\n",
      "Epoch 107/200\n",
      "338/338 [==============================] - 1s 4ms/step - loss: 0.2617 - accuracy: 0.9029 - val_loss: 0.3217 - val_accuracy: 0.8819\n",
      "Epoch 108/200\n",
      "338/338 [==============================] - 1s 4ms/step - loss: 0.2553 - accuracy: 0.9095 - val_loss: 0.3336 - val_accuracy: 0.8777\n",
      "Epoch 109/200\n",
      "338/338 [==============================] - 1s 4ms/step - loss: 0.2589 - accuracy: 0.9093 - val_loss: 0.3137 - val_accuracy: 0.8849\n",
      "Epoch 110/200\n",
      "338/338 [==============================] - 1s 4ms/step - loss: 0.2567 - accuracy: 0.9108 - val_loss: 0.3097 - val_accuracy: 0.8856\n",
      "Epoch 111/200\n",
      "338/338 [==============================] - 1s 4ms/step - loss: 0.2550 - accuracy: 0.9097 - val_loss: 0.3361 - val_accuracy: 0.8732\n",
      "Epoch 112/200\n",
      "338/338 [==============================] - ETA: 0s - loss: 0.2509 - accuracy: 0.91 - 1s 4ms/step - loss: 0.2500 - accuracy: 0.9119 - val_loss: 0.3208 - val_accuracy: 0.8804\n",
      "Epoch 113/200\n",
      "338/338 [==============================] - 1s 4ms/step - loss: 0.2500 - accuracy: 0.9132 - val_loss: 0.3144 - val_accuracy: 0.8815\n",
      "Epoch 114/200\n",
      "338/338 [==============================] - 1s 4ms/step - loss: 0.2496 - accuracy: 0.9106 - val_loss: 0.3056 - val_accuracy: 0.8868\n",
      "Epoch 115/200\n",
      "338/338 [==============================] - 1s 4ms/step - loss: 0.2412 - accuracy: 0.9125 - val_loss: 0.3181 - val_accuracy: 0.8871\n",
      "Epoch 116/200\n",
      "338/338 [==============================] - 1s 4ms/step - loss: 0.2358 - accuracy: 0.9156 - val_loss: 0.3234 - val_accuracy: 0.8845\n",
      "Epoch 117/200\n",
      "338/338 [==============================] - 1s 4ms/step - loss: 0.2406 - accuracy: 0.9136 - val_loss: 0.3108 - val_accuracy: 0.8853\n",
      "Epoch 118/200\n",
      "338/338 [==============================] - 1s 4ms/step - loss: 0.2366 - accuracy: 0.9168 - val_loss: 0.3143 - val_accuracy: 0.8875\n",
      "Epoch 119/200\n",
      "338/338 [==============================] - 1s 4ms/step - loss: 0.2384 - accuracy: 0.9149 - val_loss: 0.3217 - val_accuracy: 0.8807\n",
      "Epoch 120/200\n",
      "338/338 [==============================] - 1s 4ms/step - loss: 0.2346 - accuracy: 0.9105 - val_loss: 0.3165 - val_accuracy: 0.8890\n",
      "Epoch 121/200\n",
      "338/338 [==============================] - 1s 4ms/step - loss: 0.2446 - accuracy: 0.9121 - val_loss: 0.3129 - val_accuracy: 0.8853\n",
      "Epoch 122/200\n",
      "338/338 [==============================] - 1s 4ms/step - loss: 0.2405 - accuracy: 0.9123 - val_loss: 0.3070 - val_accuracy: 0.8894\n",
      "Epoch 123/200\n",
      "338/338 [==============================] - 1s 4ms/step - loss: 0.2237 - accuracy: 0.9192 - val_loss: 0.3158 - val_accuracy: 0.8879\n",
      "Epoch 124/200\n",
      "338/338 [==============================] - 1s 4ms/step - loss: 0.2285 - accuracy: 0.9182 - val_loss: 0.3077 - val_accuracy: 0.8849\n",
      "Epoch 125/200\n",
      "338/338 [==============================] - 1s 4ms/step - loss: 0.2308 - accuracy: 0.9207 - val_loss: 0.3176 - val_accuracy: 0.8830\n",
      "Epoch 126/200\n",
      "338/338 [==============================] - 1s 4ms/step - loss: 0.2325 - accuracy: 0.9179 - val_loss: 0.3054 - val_accuracy: 0.8901\n",
      "Epoch 127/200\n",
      "338/338 [==============================] - 1s 4ms/step - loss: 0.2272 - accuracy: 0.9190 - val_loss: 0.3106 - val_accuracy: 0.8894\n",
      "Epoch 128/200\n",
      "338/338 [==============================] - 1s 4ms/step - loss: 0.2289 - accuracy: 0.9177 - val_loss: 0.3217 - val_accuracy: 0.8811\n",
      "Epoch 129/200\n",
      "338/338 [==============================] - 1s 4ms/step - loss: 0.2251 - accuracy: 0.9194 - val_loss: 0.3061 - val_accuracy: 0.8826\n",
      "Epoch 130/200\n",
      "338/338 [==============================] - 1s 4ms/step - loss: 0.2224 - accuracy: 0.9227 - val_loss: 0.3289 - val_accuracy: 0.8770\n",
      "Epoch 131/200\n",
      "338/338 [==============================] - 1s 4ms/step - loss: 0.2216 - accuracy: 0.9229 - val_loss: 0.3087 - val_accuracy: 0.8856\n",
      "Epoch 132/200\n",
      "338/338 [==============================] - 1s 4ms/step - loss: 0.2223 - accuracy: 0.9199 - val_loss: 0.3189 - val_accuracy: 0.8864\n",
      "Epoch 133/200\n",
      "338/338 [==============================] - 1s 4ms/step - loss: 0.2185 - accuracy: 0.9236 - val_loss: 0.3233 - val_accuracy: 0.8894\n",
      "Epoch 134/200\n",
      "338/338 [==============================] - 1s 4ms/step - loss: 0.2184 - accuracy: 0.9238 - val_loss: 0.2972 - val_accuracy: 0.8924\n",
      "Epoch 135/200\n",
      "338/338 [==============================] - 1s 4ms/step - loss: 0.2207 - accuracy: 0.9192 - val_loss: 0.3126 - val_accuracy: 0.8871\n",
      "Epoch 136/200\n",
      "338/338 [==============================] - 1s 4ms/step - loss: 0.2164 - accuracy: 0.9201 - val_loss: 0.2973 - val_accuracy: 0.8879\n",
      "Epoch 137/200\n",
      "338/338 [==============================] - 1s 4ms/step - loss: 0.2103 - accuracy: 0.9279 - val_loss: 0.3060 - val_accuracy: 0.8924\n",
      "Epoch 138/200\n",
      "338/338 [==============================] - 1s 4ms/step - loss: 0.2161 - accuracy: 0.9223 - val_loss: 0.3260 - val_accuracy: 0.8800\n",
      "Epoch 139/200\n",
      "338/338 [==============================] - 1s 4ms/step - loss: 0.2137 - accuracy: 0.9229 - val_loss: 0.2992 - val_accuracy: 0.8890\n",
      "Epoch 140/200\n",
      "338/338 [==============================] - 1s 4ms/step - loss: 0.2135 - accuracy: 0.9270 - val_loss: 0.2940 - val_accuracy: 0.8928\n",
      "Epoch 141/200\n",
      "338/338 [==============================] - 1s 4ms/step - loss: 0.2110 - accuracy: 0.9232 - val_loss: 0.3049 - val_accuracy: 0.8875\n",
      "Epoch 142/200\n",
      "338/338 [==============================] - 1s 4ms/step - loss: 0.2078 - accuracy: 0.9220 - val_loss: 0.2971 - val_accuracy: 0.8898\n",
      "Epoch 143/200\n",
      "338/338 [==============================] - 1s 4ms/step - loss: 0.2074 - accuracy: 0.9273 - val_loss: 0.3089 - val_accuracy: 0.8883\n",
      "Epoch 144/200\n",
      "338/338 [==============================] - 1s 4ms/step - loss: 0.2154 - accuracy: 0.9232 - val_loss: 0.3041 - val_accuracy: 0.8864\n",
      "Epoch 145/200\n",
      "338/338 [==============================] - 1s 4ms/step - loss: 0.2005 - accuracy: 0.9290 - val_loss: 0.3171 - val_accuracy: 0.8834\n",
      "Epoch 146/200\n",
      "338/338 [==============================] - 1s 4ms/step - loss: 0.2014 - accuracy: 0.9266 - val_loss: 0.2962 - val_accuracy: 0.8928\n",
      "Epoch 147/200\n",
      "338/338 [==============================] - 1s 4ms/step - loss: 0.2055 - accuracy: 0.9260 - val_loss: 0.2980 - val_accuracy: 0.8886\n",
      "Epoch 148/200\n",
      "338/338 [==============================] - 1s 4ms/step - loss: 0.2097 - accuracy: 0.9262 - val_loss: 0.2974 - val_accuracy: 0.8920\n",
      "Epoch 149/200\n",
      "338/338 [==============================] - 1s 4ms/step - loss: 0.1994 - accuracy: 0.9308 - val_loss: 0.3080 - val_accuracy: 0.8879\n",
      "Epoch 150/200\n",
      "338/338 [==============================] - 1s 4ms/step - loss: 0.1996 - accuracy: 0.9325 - val_loss: 0.3029 - val_accuracy: 0.8928\n",
      "Epoch 151/200\n",
      "338/338 [==============================] - 1s 4ms/step - loss: 0.1944 - accuracy: 0.9299 - val_loss: 0.2957 - val_accuracy: 0.8932\n",
      "Epoch 152/200\n",
      "338/338 [==============================] - 1s 4ms/step - loss: 0.1968 - accuracy: 0.9333 - val_loss: 0.2872 - val_accuracy: 0.8943\n",
      "Epoch 153/200\n",
      "338/338 [==============================] - 1s 4ms/step - loss: 0.1991 - accuracy: 0.9273 - val_loss: 0.2929 - val_accuracy: 0.8901\n",
      "Epoch 154/200\n",
      "338/338 [==============================] - 1s 4ms/step - loss: 0.1961 - accuracy: 0.9296 - val_loss: 0.2950 - val_accuracy: 0.8935\n",
      "Epoch 155/200\n",
      "338/338 [==============================] - 1s 4ms/step - loss: 0.1890 - accuracy: 0.9297 - val_loss: 0.2924 - val_accuracy: 0.8958 0.190\n",
      "Epoch 156/200\n",
      "338/338 [==============================] - 1s 4ms/step - loss: 0.1874 - accuracy: 0.9329 - val_loss: 0.3040 - val_accuracy: 0.8879\n",
      "Epoch 157/200\n",
      "338/338 [==============================] - 1s 4ms/step - loss: 0.1945 - accuracy: 0.9320 - val_loss: 0.3037 - val_accuracy: 0.8898\n",
      "Epoch 158/200\n",
      "338/338 [==============================] - 1s 4ms/step - loss: 0.1961 - accuracy: 0.9347 - val_loss: 0.2874 - val_accuracy: 0.8965\n",
      "Epoch 159/200\n",
      "338/338 [==============================] - 1s 4ms/step - loss: 0.1951 - accuracy: 0.9329 - val_loss: 0.2935 - val_accuracy: 0.8928\n",
      "Epoch 160/200\n",
      "338/338 [==============================] - 1s 4ms/step - loss: 0.1886 - accuracy: 0.9347 - val_loss: 0.3012 - val_accuracy: 0.8939\n",
      "Epoch 161/200\n",
      "338/338 [==============================] - 1s 4ms/step - loss: 0.1927 - accuracy: 0.9299 - val_loss: 0.2885 - val_accuracy: 0.8924\n",
      "Epoch 162/200\n",
      "338/338 [==============================] - 1s 4ms/step - loss: 0.1831 - accuracy: 0.9342 - val_loss: 0.2889 - val_accuracy: 0.8939\n",
      "Epoch 163/200\n",
      "338/338 [==============================] - 1s 4ms/step - loss: 0.1810 - accuracy: 0.9355 - val_loss: 0.3000 - val_accuracy: 0.8920\n",
      "Epoch 164/200\n",
      "338/338 [==============================] - 1s 4ms/step - loss: 0.1781 - accuracy: 0.9366 - val_loss: 0.3041 - val_accuracy: 0.8928\n",
      "Epoch 165/200\n",
      "338/338 [==============================] - 1s 4ms/step - loss: 0.1794 - accuracy: 0.9379 - val_loss: 0.2876 - val_accuracy: 0.8943\n",
      "Epoch 166/200\n",
      "338/338 [==============================] - 1s 4ms/step - loss: 0.1753 - accuracy: 0.9386 - val_loss: 0.2947 - val_accuracy: 0.8905\n",
      "Epoch 167/200\n",
      "338/338 [==============================] - 1s 4ms/step - loss: 0.1805 - accuracy: 0.9366 - val_loss: 0.2797 - val_accuracy: 0.8965\n",
      "Epoch 168/200\n",
      "338/338 [==============================] - 1s 4ms/step - loss: 0.1709 - accuracy: 0.9392 - val_loss: 0.2924 - val_accuracy: 0.9003\n",
      "Epoch 169/200\n",
      "338/338 [==============================] - 1s 4ms/step - loss: 0.1862 - accuracy: 0.9331 - val_loss: 0.2751 - val_accuracy: 0.8984\n",
      "Epoch 170/200\n"
     ]
    },
    {
     "name": "stdout",
     "output_type": "stream",
     "text": [
      "338/338 [==============================] - 1s 4ms/step - loss: 0.1750 - accuracy: 0.9403 - val_loss: 0.2787 - val_accuracy: 0.9007\n",
      "Epoch 171/200\n",
      "338/338 [==============================] - 1s 4ms/step - loss: 0.1715 - accuracy: 0.9396 - val_loss: 0.2957 - val_accuracy: 0.8965\n",
      "Epoch 172/200\n",
      "338/338 [==============================] - 1s 4ms/step - loss: 0.1708 - accuracy: 0.9366 - val_loss: 0.2861 - val_accuracy: 0.8992\n",
      "Epoch 173/200\n",
      "338/338 [==============================] - 1s 4ms/step - loss: 0.1760 - accuracy: 0.9401 - val_loss: 0.2894 - val_accuracy: 0.8932\n",
      "Epoch 174/200\n",
      "338/338 [==============================] - 1s 4ms/step - loss: 0.1717 - accuracy: 0.9414 - val_loss: 0.2842 - val_accuracy: 0.8999\n",
      "Epoch 175/200\n",
      "338/338 [==============================] - 1s 4ms/step - loss: 0.1680 - accuracy: 0.9412 - val_loss: 0.2839 - val_accuracy: 0.8947\n",
      "Epoch 176/200\n",
      "338/338 [==============================] - 1s 4ms/step - loss: 0.1695 - accuracy: 0.9418 - val_loss: 0.2886 - val_accuracy: 0.8962\n",
      "Epoch 177/200\n",
      "338/338 [==============================] - 1s 4ms/step - loss: 0.1769 - accuracy: 0.9357 - val_loss: 0.2955 - val_accuracy: 0.8965\n",
      "Epoch 178/200\n",
      "338/338 [==============================] - 1s 4ms/step - loss: 0.1721 - accuracy: 0.9388 - val_loss: 0.2898 - val_accuracy: 0.8935\n",
      "Epoch 179/200\n",
      "338/338 [==============================] - 1s 4ms/step - loss: 0.1723 - accuracy: 0.9375 - val_loss: 0.2909 - val_accuracy: 0.8928\n",
      "Epoch 180/200\n",
      "338/338 [==============================] - 1s 4ms/step - loss: 0.1688 - accuracy: 0.9425 - val_loss: 0.2921 - val_accuracy: 0.8954\n",
      "Epoch 181/200\n",
      "338/338 [==============================] - 1s 4ms/step - loss: 0.1590 - accuracy: 0.9449 - val_loss: 0.2896 - val_accuracy: 0.8973\n",
      "Epoch 182/200\n",
      "338/338 [==============================] - 1s 4ms/step - loss: 0.1724 - accuracy: 0.9394 - val_loss: 0.2851 - val_accuracy: 0.8984\n",
      "Epoch 183/200\n",
      "338/338 [==============================] - 1s 4ms/step - loss: 0.1691 - accuracy: 0.9394 - val_loss: 0.2946 - val_accuracy: 0.8965\n",
      "Epoch 184/200\n",
      "338/338 [==============================] - 1s 4ms/step - loss: 0.1598 - accuracy: 0.9429 - val_loss: 0.2823 - val_accuracy: 0.8954\n",
      "Epoch 185/200\n",
      "338/338 [==============================] - 1s 4ms/step - loss: 0.1634 - accuracy: 0.9444 - val_loss: 0.3052 - val_accuracy: 0.8939\n",
      "Epoch 186/200\n",
      "338/338 [==============================] - 1s 4ms/step - loss: 0.1638 - accuracy: 0.9407 - val_loss: 0.2951 - val_accuracy: 0.8980\n",
      "Epoch 187/200\n",
      "338/338 [==============================] - 1s 4ms/step - loss: 0.1648 - accuracy: 0.9425 - val_loss: 0.3019 - val_accuracy: 0.8916\n",
      "Epoch 188/200\n",
      "338/338 [==============================] - 1s 4ms/step - loss: 0.1644 - accuracy: 0.9397 - val_loss: 0.2955 - val_accuracy: 0.8958\n",
      "Epoch 189/200\n",
      "338/338 [==============================] - 1s 4ms/step - loss: 0.1669 - accuracy: 0.9390 - val_loss: 0.2794 - val_accuracy: 0.9022\n",
      "Epoch 190/200\n",
      "338/338 [==============================] - 1s 4ms/step - loss: 0.1680 - accuracy: 0.9405 - val_loss: 0.2873 - val_accuracy: 0.8935\n",
      "Epoch 191/200\n",
      "338/338 [==============================] - 1s 4ms/step - loss: 0.1542 - accuracy: 0.9477 - val_loss: 0.3039 - val_accuracy: 0.8932\n",
      "Epoch 192/200\n",
      "338/338 [==============================] - 1s 4ms/step - loss: 0.1636 - accuracy: 0.9455 - val_loss: 0.2771 - val_accuracy: 0.8943\n",
      "Epoch 193/200\n",
      "338/338 [==============================] - 1s 4ms/step - loss: 0.1571 - accuracy: 0.9431 - val_loss: 0.3009 - val_accuracy: 0.8939\n",
      "Epoch 194/200\n",
      "338/338 [==============================] - 1s 4ms/step - loss: 0.1565 - accuracy: 0.9448 - val_loss: 0.2876 - val_accuracy: 0.8958\n",
      "Epoch 195/200\n",
      "338/338 [==============================] - 1s 4ms/step - loss: 0.1616 - accuracy: 0.9446 - val_loss: 0.3030 - val_accuracy: 0.8898\n",
      "Epoch 196/200\n",
      "338/338 [==============================] - 1s 4ms/step - loss: 0.1555 - accuracy: 0.9457 - val_loss: 0.2923 - val_accuracy: 0.8965\n",
      "Epoch 197/200\n",
      "338/338 [==============================] - 1s 4ms/step - loss: 0.1484 - accuracy: 0.9466 - val_loss: 0.2814 - val_accuracy: 0.9014\n",
      "Epoch 198/200\n",
      "338/338 [==============================] - 1s 4ms/step - loss: 0.1514 - accuracy: 0.9459 - val_loss: 0.2744 - val_accuracy: 0.8958\n",
      "Epoch 199/200\n",
      "338/338 [==============================] - 1s 4ms/step - loss: 0.1508 - accuracy: 0.9475 - val_loss: 0.2889 - val_accuracy: 0.9014\n",
      "Epoch 200/200\n",
      "338/338 [==============================] - 1s 4ms/step - loss: 0.1500 - accuracy: 0.9464 - val_loss: 0.2876 - val_accuracy: 0.9022\n"
     ]
    }
   ],
   "source": [
    "cnnhistory=model.fit(x_traincnn, y_train, batch_size=16, epochs=200, validation_data=(x_testcnn, y_test))"
   ]
  },
  {
   "cell_type": "code",
   "execution_count": 13,
   "id": "excited-smith",
   "metadata": {},
   "outputs": [
    {
     "data": {
      "image/png": "[encoded data removed]",
      "text/plain": [
       "<Figure size 432x288 with 1 Axes>"
      ]
     },
     "metadata": {
      "needs_background": "light"
     },
     "output_type": "display_data"
    }
   ],
   "source": [
    "plt.plot(cnnhistory.history['loss'])\n",
    "plt.plot(cnnhistory.history['val_loss'])\n",
    "plt.title('model loss')\n",
    "plt.ylabel('loss')\n",
    "plt.xlabel('epoch')\n",
    "plt.legend(['train', 'test'], loc='upper left')\n",
    "plt.show()"
   ]
  },
  {
   "cell_type": "code",
   "execution_count": 14,
   "id": "pending-underground",
   "metadata": {},
   "outputs": [
    {
     "data": {
      "image/png": "[encoded data removed]",
      "text/plain": [
       "<Figure size 432x288 with 1 Axes>"
      ]
     },
     "metadata": {
      "needs_background": "light"
     },
     "output_type": "display_data"
    }
   ],
   "source": [
    "plt.plot(cnnhistory.history['accuracy'])\n",
    "plt.plot(cnnhistory.history['val_accuracy'])\n",
    "plt.title('model accuracy')\n",
    "plt.ylabel('accuracy')\n",
    "plt.xlabel('epoch')\n",
    "plt.legend(['train', 'test'], loc='upper left')\n",
    "plt.show()"
   ]
  },
  {
   "cell_type": "code",
   "execution_count": 15,
   "id": "similar-showcase",
   "metadata": {},
   "outputs": [],
   "source": [
    "predictions = model.predict_classes(x_testcnn)"
   ]
  },
  {
   "cell_type": "code",
   "execution_count": 16,
   "id": "eight-graph",
   "metadata": {},
   "outputs": [
    {
     "data": {
      "text/plain": [
       "array([0, 4, 4, ..., 0, 5, 3], dtype=int64)"
      ]
     },
     "execution_count": 16,
     "metadata": {},
     "output_type": "execute_result"
    }
   ],
   "source": [
    "predictions"
   ]
  },
  {
   "cell_type": "code",
   "execution_count": 17,
   "id": "recent-strength",
   "metadata": {},
   "outputs": [
    {
     "data": {
      "text/plain": [
       "array([0, 4, 5, ..., 0, 5, 3])"
      ]
     },
     "execution_count": 17,
     "metadata": {},
     "output_type": "execute_result"
    }
   ],
   "source": [
    "y_test"
   ]
  },
  {
   "cell_type": "code",
   "execution_count": 18,
   "id": "gorgeous-agriculture",
   "metadata": {},
   "outputs": [],
   "source": [
    "new_Ytest = y_test.astype(int)"
   ]
  },
  {
   "cell_type": "code",
   "execution_count": 19,
   "id": "permanent-rates",
   "metadata": {},
   "outputs": [
    {
     "data": {
      "text/plain": [
       "array([0, 4, 5, ..., 0, 5, 3])"
      ]
     },
     "execution_count": 19,
     "metadata": {},
     "output_type": "execute_result"
    }
   ],
   "source": [
    "new_Ytest"
   ]
  },
  {
   "cell_type": "code",
   "execution_count": 20,
   "id": "described-nelson",
   "metadata": {},
   "outputs": [
    {
     "name": "stdout",
     "output_type": "stream",
     "text": [
      "              precision    recall  f1-score   support\n",
      "\n",
      "           0       0.97      0.91      0.94       328\n",
      "           1       0.81      0.78      0.79       125\n",
      "           2       0.93      0.90      0.91       396\n",
      "           3       0.88      0.86      0.87       381\n",
      "           4       0.92      0.94      0.93       384\n",
      "           5       0.82      0.92      0.86       354\n",
      "           6       0.91      0.95      0.93       335\n",
      "           7       0.92      0.90      0.91       355\n",
      "\n",
      "    accuracy                           0.90      2658\n",
      "   macro avg       0.90      0.89      0.89      2658\n",
      "weighted avg       0.90      0.90      0.90      2658\n",
      "\n"
     ]
    }
   ],
   "source": [
    "from sklearn.metrics import classification_report\n",
    "report = classification_report(new_Ytest, predictions)\n",
    "print(report)"
   ]
  },
  {
   "cell_type": "code",
   "execution_count": 21,
   "id": "numerical-scoop",
   "metadata": {},
   "outputs": [
    {
     "name": "stdout",
     "output_type": "stream",
     "text": [
      "MODEL SAVED\n"
     ]
    }
   ],
   "source": [
    "model.save('testing11_model.h5')\n",
    "print(\"MODEL SAVED\")"
   ]
  },
  {
   "cell_type": "code",
   "execution_count": 22,
   "id": "juvenile-yacht",
   "metadata": {},
   "outputs": [
    {
     "name": "stdout",
     "output_type": "stream",
     "text": [
      "Model: \"sequential\"\n",
      "_________________________________________________________________\n",
      "Layer (type)                 Output Shape              Param #   \n",
      "=================================================================\n",
      "conv1d (Conv1D)              (None, 40, 64)            384       \n",
      "_________________________________________________________________\n",
      "activation (Activation)      (None, 40, 64)            0         \n",
      "_________________________________________________________________\n",
      "dropout (Dropout)            (None, 40, 64)            0         \n",
      "_________________________________________________________________\n",
      "max_pooling1d (MaxPooling1D) (None, 10, 64)            0         \n",
      "_________________________________________________________________\n",
      "conv1d_1 (Conv1D)            (None, 10, 128)           41088     \n",
      "_________________________________________________________________\n",
      "activation_1 (Activation)    (None, 10, 128)           0         \n",
      "_________________________________________________________________\n",
      "dropout_1 (Dropout)          (None, 10, 128)           0         \n",
      "_________________________________________________________________\n",
      "max_pooling1d_1 (MaxPooling1 (None, 2, 128)            0         \n",
      "_________________________________________________________________\n",
      "conv1d_2 (Conv1D)            (None, 2, 256)            164096    \n",
      "_________________________________________________________________\n",
      "activation_2 (Activation)    (None, 2, 256)            0         \n",
      "_________________________________________________________________\n",
      "dropout_2 (Dropout)          (None, 2, 256)            0         \n",
      "_________________________________________________________________\n",
      "flatten (Flatten)            (None, 512)               0         \n",
      "_________________________________________________________________\n",
      "dense (Dense)                (None, 8)                 4104      \n",
      "_________________________________________________________________\n",
      "activation_3 (Activation)    (None, 8)                 0         \n",
      "=================================================================\n",
      "Total params: 209,672\n",
      "Trainable params: 209,672\n",
      "Non-trainable params: 0\n",
      "_________________________________________________________________\n"
     ]
    }
   ],
   "source": [
    "new_model=keras.models.load_model('testing11_model.h5')\n",
    "new_model.summary()"
   ]
  },
  {
   "cell_type": "code",
   "execution_count": 31,
   "id": "turned-prospect",
   "metadata": {},
   "outputs": [
    {
     "name": "stdout",
     "output_type": "stream",
     "text": [
      "84/84 [==============================] - 0s 1ms/step - loss: 0.2876 - accuracy: 0.1155\n",
      "Restored model, accuracy: 11.55%\n"
     ]
    }
   ],
   "source": [
    "loss, acc = new_model.evaluate(x_testcnn, y_test)\n",
    "print(\"Restored model, accuracy: {:5.2f}%\".format(100*acc))"
   ]
  },
  {
   "cell_type": "code",
   "execution_count": null,
   "id": "acoustic-population",
   "metadata": {},
   "outputs": [],
   "source": []
  },
  {
   "cell_type": "code",
   "execution_count": null,
   "id": "fitting-celtic",
   "metadata": {},
   "outputs": [],
   "source": []
  }
 ],
 "metadata": {
  "kernelspec": {
   "display_name": "Python 3",
   "language": "python",
   "name": "python3"
  },
  "language_info": {
   "codemirror_mode": {
    "name": "ipython",
    "version": 3
   },
   "file_extension": ".py",
   "mimetype": "text/x-python",
   "name": "python",
   "nbconvert_exporter": "python",
   "pygments_lexer": "ipython3",
   "version": "3.8.8"
  }
 },
 "nbformat": 4,
 "nbformat_minor": 5
}
