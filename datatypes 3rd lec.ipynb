{
 "cells": [
  {
   "cell_type": "markdown",
   "metadata": {},
   "source": [
    "# Casting : Type Conversion and Type Casting"
   ]
  },
  {
   "cell_type": "markdown",
   "metadata": {},
   "source": [
    "### In Python, we can convert one type to another type. This conversion is called type casting or type conversion."
   ]
  },
  {
   "cell_type": "markdown",
   "metadata": {},
   "source": [
    "In casting, we convert variable declared in specific data types to the different data types."
   ]
  },
  {
   "cell_type": "markdown",
   "metadata": {},
   "source": [
    "Python perform the following two types of casting."
   ]
  },
  {
   "cell_type": "markdown",
   "metadata": {},
   "source": [
    "  1. Implicit casting : The Python interpreter automatically performs an implicit Type conversion, which avoid loss of data.\n",
    "  2. Explicit casting: The explicit type conversion is performed by the user using built-in functions."
   ]
  },
  {
   "cell_type": "markdown",
   "metadata": {},
   "source": [
    "To perform a type casting, we are going to use the following built-in functions"
   ]
  },
  {
   "cell_type": "markdown",
   "metadata": {},
   "source": [
    "1. int(): convert any type variable to the integer type.\n",
    "2. float(): convert any type variable to the float type.\n",
    "3. complex(): convert any type variable to the complex type.\n",
    "4. bool(): convert any type variable to the bool type.\n",
    "5. str(): convert any type variable to the string type."
   ]
  },
  {
   "cell_type": "markdown",
   "metadata": {},
   "source": [
    "In type casting, data loss may occur because we enforce the object to a specific data type."
   ]
  },
  {
   "cell_type": "markdown",
   "metadata": {},
   "source": [
    "# Int type conversion"
   ]
  },
  {
   "cell_type": "markdown",
   "metadata": {},
   "source": [
    "In int type conversion, we use the int() function to convert variables of other types to int type. Variable can be of any type such as float, string bool"
   ]
  },
  {
   "cell_type": "markdown",
   "metadata": {},
   "source": [
    "While performing int type conversion, we need to remember the following points."
   ]
  },
  {
   "cell_type": "markdown",
   "metadata": {},
   "source": [
    "  1. When converting string type to int type, a string must contain integral value only and should be base-10.\n",
    "  2. We can convert any type to int type, but we cannot perform complex to int type.\n"
   ]
  },
  {
   "cell_type": "markdown",
   "metadata": {},
   "source": [
    "# Casting float value to an integer"
   ]
  },
  {
   "cell_type": "code",
   "execution_count": 1,
   "metadata": {},
   "outputs": [
    {
     "name": "stdout",
     "output_type": "stream",
     "text": [
      "<class 'float'>\n",
      "<class 'int'>\n"
     ]
    }
   ],
   "source": [
    "pi = 3.14\n",
    "print(type(pi))\n",
    "\n",
    "num=int(pi)\n",
    "print(type(num))"
   ]
  },
  {
   "cell_type": "markdown",
   "metadata": {},
   "source": [
    "# Casting Boolean value to an integer"
   ]
  },
  {
   "cell_type": "code",
   "execution_count": 12,
   "metadata": {},
   "outputs": [
    {
     "name": "stdout",
     "output_type": "stream",
     "text": [
      "<class 'bool'>\n",
      "Integer number 1: 1\n",
      "<class 'int'>\n",
      "Integer number 2: 0\n",
      "<class 'int'>\n"
     ]
    }
   ],
   "source": [
    "flag_true = True\n",
    "flag_false = False\n",
    "print(type(flag_true))\n",
    "# converting boolean to integer\n",
    "num1 = int(flag_true)\n",
    "num2 = int(flag_false)\n",
    "print(\"Integer number 1:\", num1)\n",
    "# Output 1\n",
    "print(type(num1))\n",
    "# Output class 'int'\n",
    "print(\"Integer number 2:\", num2)\n",
    "print(type(num2))"
   ]
  },
  {
   "cell_type": "markdown",
   "metadata": {},
   "source": [
    "## Casting a string to an integer"
   ]
  },
  {
   "cell_type": "code",
   "execution_count": 13,
   "metadata": {},
   "outputs": [
    {
     "name": "stdout",
     "output_type": "stream",
     "text": [
      "<class 'str'>\n",
      "Integer number 1: 225\n",
      "<class 'int'>\n"
     ]
    }
   ],
   "source": [
    "string_num = \"225\"\n",
    "print(type(string_num))\n",
    "# converting str to integer\n",
    "num1 = int(string_num)\n",
    "print(\"Integer number 1:\", num1)\n",
    "print(type(num1))"
   ]
  },
  {
   "cell_type": "markdown",
   "metadata": {},
   "source": [
    "# Float type conversion"
   ]
  },
  {
   "cell_type": "markdown",
   "metadata": {},
   "source": [
    "In float type conversion we use a built-in function float() . This function converts variables of other types to float types."
   ]
  },
  {
   "cell_type": "markdown",
   "metadata": {},
   "source": [
    "# Casting integer to float"
   ]
  },
  {
   "cell_type": "code",
   "execution_count": 16,
   "metadata": {},
   "outputs": [
    {
     "name": "stdout",
     "output_type": "stream",
     "text": [
      "<class 'int'>\n",
      "Float number: 725.0\n",
      "<class 'float'>\n"
     ]
    }
   ],
   "source": [
    "num = 725\n",
    "print(type(num))\n",
    "# converting float to integer\n",
    "num1 = float(num)\n",
    "print(\"Float number:\", num1)\n",
    "print(type(num1))"
   ]
  },
  {
   "cell_type": "markdown",
   "metadata": {},
   "source": [
    "# Casting Boolean to float"
   ]
  },
  {
   "cell_type": "code",
   "execution_count": 17,
   "metadata": {},
   "outputs": [
    {
     "name": "stdout",
     "output_type": "stream",
     "text": [
      "<class 'bool'>\n",
      "Float number 1: 1.0\n",
      "<class 'float'>\n",
      "Float number 2: 0.0\n",
      "<class 'float'>\n"
     ]
    }
   ],
   "source": [
    "flag_true = True\n",
    "flag_false = False\n",
    "print(type(flag_true))\n",
    "# converting boolean to float\n",
    "num1 = float(flag_true)\n",
    "num2 = float(flag_false)\n",
    "print(\"Float number 1:\", num1)\n",
    "print(type(num1))\n",
    "print(\"Float number 2:\", num2)\n",
    "print(type(num2))"
   ]
  },
  {
   "cell_type": "markdown",
   "metadata": {},
   "source": [
    "# Casting string to float"
   ]
  },
  {
   "cell_type": "code",
   "execution_count": 19,
   "metadata": {},
   "outputs": [
    {
     "name": "stdout",
     "output_type": "stream",
     "text": [
      "<class 'str'>\n",
      "Print float no : 45.25\n",
      "<class 'float'>\n"
     ]
    }
   ],
   "source": [
    "string_num=\"45.25\"\n",
    "print(type(string_num))\n",
    "\n",
    "num1=float(string_num)\n",
    "print(\"Print float no :\",num1)\n",
    "print(type(num1))"
   ]
  },
  {
   "cell_type": "markdown",
   "metadata": {},
   "source": [
    "While performing float type conversion, we need to remember some points.                                                          \n",
    "    1. We can convert any type to float type, but we cannot cast complex to float type.\n",
    "    \n",
    "    2. While converting string type to float type, a string must contain an integer/decimal value of base-10"
   ]
  },
  {
   "cell_type": "markdown",
   "metadata": {},
   "source": [
    "# Complex type conversion "
   ]
  },
  {
   "cell_type": "markdown",
   "metadata": {},
   "source": [
    "In complex type conversion, we use the built-in function complex() to convert values from other types to the complex type. Value can be any type\n",
    "including of int, float, bool, str."
   ]
  },
  {
   "cell_type": "markdown",
   "metadata": {},
   "source": [
    "The complex function has the following two forms for conversion."
   ]
  },
  {
   "cell_type": "markdown",
   "metadata": {},
   "source": [
    "complex(x): To convert a value x into a complex type. In this form, the real value is x, and the imaginary value is 0.\n",
    "complex(x, y): To convert the value x and y into a complex type. In this form, the real value is x, and the imaginary is y"
   ]
  },
  {
   "cell_type": "markdown",
   "metadata": {},
   "source": [
    "# Casting integer type to complex type"
   ]
  },
  {
   "cell_type": "code",
   "execution_count": 21,
   "metadata": {},
   "outputs": [
    {
     "name": "stdout",
     "output_type": "stream",
     "text": [
      "<class 'int'>\n",
      "Complex number: (135+0j)\n",
      "<class 'complex'>\n",
      "Complex number: (135+235j)\n",
      "<class 'complex'>\n"
     ]
    }
   ],
   "source": [
    "r_num = 135\n",
    "print(type(r_num)) # class 'int'\n",
    "# converting int to complex(x)\n",
    "c_num = complex(r_num)\n",
    "print(\"Complex number:\", c_num)\n",
    "print(type(c_num))\n",
    "# converting int to complex(x, y)\n",
    "r_num, i_num2 = 135, 235\n",
    "c_num = complex(r_num, i_num2)\n",
    "print(\"Complex number:\", c_num)\n",
    "print(type(c_num)) # class 'complex'"
   ]
  },
  {
   "cell_type": "markdown",
   "metadata": {},
   "source": [
    "# Casting float type to complex type"
   ]
  },
  {
   "cell_type": "code",
   "execution_count": 22,
   "metadata": {},
   "outputs": [
    {
     "name": "stdout",
     "output_type": "stream",
     "text": [
      "<class 'float'>\n",
      "complex no : (53.23+0j)\n",
      "<class 'complex'>\n",
      "(22.5+24.5j)\n",
      "<class 'complex'>\n"
     ]
    }
   ],
   "source": [
    "r_num=53.23\n",
    "print(type(r_num))\n",
    "\n",
    "c_num=complex(r_num)\n",
    "\n",
    "print(\"complex no :\",c_num)\n",
    "print(type(c_num))\n",
    "\n",
    "b_num,a_num =22.5 ,24.5\n",
    "C_num=complex(b_num,a_num)\n",
    "print(C_num)\n",
    "print(type(C_num))"
   ]
  },
  {
   "cell_type": "markdown",
   "metadata": {},
   "source": [
    "# Casting Boolean type to complex type"
   ]
  },
  {
   "cell_type": "code",
   "execution_count": 23,
   "metadata": {},
   "outputs": [
    {
     "name": "stdout",
     "output_type": "stream",
     "text": [
      "<class 'bool'>\n",
      "Complex number: (1+0j)\n",
      "<class 'complex'>\n",
      "Complex number: 1j\n",
      "<class 'complex'>\n"
     ]
    }
   ],
   "source": [
    "boolean_true = True\n",
    "print(type(boolean_true)) # class 'bool'\n",
    "# converting boolean to complex(x)\n",
    "c_num = complex(boolean_true)\n",
    "print(\"Complex number:\", c_num)\n",
    "# Output (1+0j)\n",
    "print(type(c_num))\n",
    "# class 'complex'\n",
    "# converting boolean to complex(x, y)\n",
    "r_bool, i_bool = False, True\n",
    "c_num = complex(r_bool, i_bool)\n",
    "print(\"Complex number:\", c_num)\n",
    "# Output 1j\n",
    "print(type(c_num))\n",
    "# class 'complex'"
   ]
  },
  {
   "cell_type": "markdown",
   "metadata": {},
   "source": [
    "## Casting integer to Boolean type"
   ]
  },
  {
   "cell_type": "code",
   "execution_count": 24,
   "metadata": {},
   "outputs": [
    {
     "name": "stdout",
     "output_type": "stream",
     "text": [
      "<class 'int'>\n",
      "True\n",
      "False\n",
      "<class 'bool'>\n"
     ]
    }
   ],
   "source": [
    "num1 = 10\n",
    "num2 = 0\n",
    "print(type(num1)) # class 'int'\n",
    "# Convert into to bool\n",
    "b1 = bool(num1)\n",
    "b2 = bool(num2)\n",
    "print(b1)\n",
    "print(b2)\n",
    "print(type(b1))"
   ]
  },
  {
   "cell_type": "markdown",
   "metadata": {},
   "source": [
    "## Casting float to Boolean type"
   ]
  },
  {
   "cell_type": "code",
   "execution_count": 25,
   "metadata": {},
   "outputs": [
    {
     "name": "stdout",
     "output_type": "stream",
     "text": [
      "<class 'float'>\n",
      "True\n",
      "False\n",
      "<class 'bool'>\n"
     ]
    }
   ],
   "source": [
    "f_num1 = 25.35\n",
    "f_num2 = 0.0\n",
    "print(type(f_num1)) # class 'float'\n",
    "# Convert float into to bool\n",
    "b1 = bool(f_num1)\n",
    "b2 = bool(f_num2)\n",
    "print(b1)\n",
    "print(b2)\n",
    "print(type(b1))"
   ]
  },
  {
   "cell_type": "markdown",
   "metadata": {},
   "source": [
    "## Casting string to Boolean type"
   ]
  },
  {
   "cell_type": "code",
   "execution_count": 26,
   "metadata": {},
   "outputs": [
    {
     "name": "stdout",
     "output_type": "stream",
     "text": [
      "<class 'str'>\n",
      "True\n",
      "True\n",
      "True\n",
      "False\n",
      "<class 'bool'>\n"
     ]
    }
   ],
   "source": [
    "s1 = \"False\"\n",
    "s2 = \"True\"\n",
    "s3 = \"812\"\n",
    "s4 = \"\"\n",
    "print(type(s1)) # class 'str'\n",
    "# Convert string into to bool\n",
    "b1 = bool(s1)\n",
    "b2 = bool(s2)\n",
    "b3 = bool(s3)\n",
    "b4 = bool(s4)\n",
    "print(b1) # True\n",
    "print(b2) # True\n",
    "print(b3) # True\n",
    "print(b4) # False\n",
    "print(type(b1)) # class 'bool'\n"
   ]
  },
  {
   "cell_type": "markdown",
   "metadata": {},
   "source": [
    "## Casting complex type to Boolean type"
   ]
  },
  {
   "cell_type": "code",
   "execution_count": 27,
   "metadata": {},
   "outputs": [
    {
     "name": "stdout",
     "output_type": "stream",
     "text": [
      "<class 'complex'>\n",
      "True\n",
      "False\n",
      "<class 'bool'>\n"
     ]
    }
   ],
   "source": [
    "c1 = 33 + 9j\n",
    "c2 = 0 + 0j\n",
    "print(type(c1)) # class 'complex'\n",
    "# Convert complex value into to bool\n",
    "b1 = bool(c1)\n",
    "b2 = bool(c2)\n",
    "print(b1) # True\n",
    "print(b2) # False\n",
    "print(type(b1)) # class 'bool'"
   ]
  },
  {
   "cell_type": "markdown",
   "metadata": {},
   "source": [
    "## Casting int to str type"
   ]
  },
  {
   "cell_type": "code",
   "execution_count": 28,
   "metadata": {},
   "outputs": [
    {
     "name": "stdout",
     "output_type": "stream",
     "text": [
      "<class 'int'>\n",
      "15\n",
      "<class 'str'>\n"
     ]
    }
   ],
   "source": [
    "num = 15\n",
    "print(type(num)) # class 'int'\n",
    "# converting int to str type\n",
    "s1 = str(num)\n",
    "print(s1)\n",
    "print(type(s1))\n",
    "# Output class 'str'"
   ]
  },
  {
   "cell_type": "markdown",
   "metadata": {},
   "source": [
    "## Casting floating type to str type"
   ]
  },
  {
   "cell_type": "code",
   "execution_count": 2,
   "metadata": {},
   "outputs": [
    {
     "name": "stdout",
     "output_type": "stream",
     "text": [
      "<class 'float'>\n"
     ]
    }
   ],
   "source": [
    "num =75.35\n",
    "print(type(num))\n",
    "\n"
   ]
  },
  {
   "cell_type": "code",
   "execution_count": 3,
   "metadata": {},
   "outputs": [
    {
     "name": "stdout",
     "output_type": "stream",
     "text": [
      "75.35\n",
      "<class 'str'>\n"
     ]
    }
   ],
   "source": [
    "st=str(num)\n",
    "print(st)\n",
    "print(type(st))"
   ]
  },
  {
   "cell_type": "markdown",
   "metadata": {},
   "source": [
    "# Casting complex type to str type"
   ]
  },
  {
   "cell_type": "code",
   "execution_count": 4,
   "metadata": {},
   "outputs": [
    {
     "name": "stdout",
     "output_type": "stream",
     "text": [
      "<class 'complex'>\n",
      "(15+6j)\n",
      "<class 'str'>\n"
     ]
    }
   ],
   "source": [
    "complex_num=15+6j\n",
    "print(type(complex_num))\n",
    "\n",
    "st1=str(complex_num)\n",
    "print(st1)\n",
    "print(type(st1))"
   ]
  },
  {
   "cell_type": "markdown",
   "metadata": {},
   "source": [
    "# Casting bool type to str type"
   ]
  },
  {
   "cell_type": "code",
   "execution_count": 10,
   "metadata": {},
   "outputs": [
    {
     "name": "stdout",
     "output_type": "stream",
     "text": [
      "True False\n",
      "<class 'bool'>\n",
      "True\n",
      "True\n",
      "<class 'str'>\n",
      "<class 'str'>\n"
     ]
    }
   ],
   "source": [
    "b1= True\n",
    "b2= False\n",
    "print(b1,b2)\n",
    "print(type(b1))\n",
    "\n",
    "s1=str(b1)\n",
    "s2=str(b2)\n",
    "print(s1)\n",
    "print(s1)\n",
    "print(type(s1))\n",
    "print(type(s2))"
   ]
  },
  {
   "cell_type": "code",
   "execution_count": null,
   "metadata": {},
   "outputs": [],
   "source": []
  }
 ],
 "metadata": {
  "kernelspec": {
   "display_name": "Python 3",
   "language": "python",
   "name": "python3"
  },
  "language_info": {
   "codemirror_mode": {
    "name": "ipython",
    "version": 3
   },
   "file_extension": ".py",
   "mimetype": "text/x-python",
   "name": "python",
   "nbconvert_exporter": "python",
   "pygments_lexer": "ipython3",
   "version": "3.8.5"
  }
 },
 "nbformat": 4,
 "nbformat_minor": 4
}
