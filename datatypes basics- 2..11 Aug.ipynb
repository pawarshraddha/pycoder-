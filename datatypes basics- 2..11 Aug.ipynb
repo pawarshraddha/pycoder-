{
 "cells": [
  {
   "cell_type": "markdown",
   "metadata": {},
   "source": [
    "QUE 1 declare 74.3 & 8.47 var and stor them in addition in num"
   ]
  },
  {
   "cell_type": "code",
   "execution_count": 6,
   "metadata": {},
   "outputs": [
    {
     "name": "stdout",
     "output_type": "stream",
     "text": [
      "82.77\n"
     ]
    }
   ],
   "source": [
    "A =74.3\n",
    "B= 8.47\n",
    "num = A+B\n",
    "print(num)"
   ]
  },
  {
   "cell_type": "markdown",
   "metadata": {},
   "source": [
    "QUE 2"
   ]
  },
  {
   "cell_type": "code",
   "execution_count": 12,
   "metadata": {},
   "outputs": [
    {
     "name": "stdout",
     "output_type": "stream",
     "text": [
      "Vishwakarma ramanathan \n",
      "Laxami road, Lal chowk, opposite vidya mandir school, Pune \n",
      "software engineer \n",
      "2/8/2009.\n",
      "112\n"
     ]
    }
   ],
   "source": [
    "Record =('''Vishwakarma ramanathan \\nLaxami road, Lal chowk, opposite vidya mandir school, Pune \\nsoftware engineer \\n2/8/2009.''')\n",
    "print(Record)\n",
    "print(len(Record))"
   ]
  },
  {
   "cell_type": "markdown",
   "metadata": {},
   "source": [
    "QUE 3"
   ]
  },
  {
   "cell_type": "code",
   "execution_count": 16,
   "metadata": {},
   "outputs": [
    {
     "name": "stdout",
     "output_type": "stream",
     "text": [
      "1 . If you \\don't\\ focus on your goal \n",
      "2 .\"You \\won't\\ be perform well \" she saild\n",
      "82\n"
     ]
    }
   ],
   "source": [
    "Statment = ('''1 . If you \\don't\\ focus on your goal \\n2 .\"You \\won't\\ be perform well \" she saild''')\n",
    "print(Statment)\n",
    "print(len(Statment))"
   ]
  },
  {
   "cell_type": "markdown",
   "metadata": {},
   "source": [
    "QUE 4"
   ]
  },
  {
   "cell_type": "code",
   "execution_count": 19,
   "metadata": {},
   "outputs": [
    {
     "name": "stdout",
     "output_type": "stream",
     "text": [
      "Welcom to the Machine Learning world.  Welcom to the Machine Learning world.  Welcom to the Machine Learning world.  \n"
     ]
    }
   ],
   "source": [
    "Statment2 =('''Welcom to the Machine Learning world.  ''')\n",
    "print(Statment2*3)"
   ]
  },
  {
   "cell_type": "code",
   "execution_count": null,
   "metadata": {},
   "outputs": [],
   "source": []
  }
 ],
 "metadata": {
  "kernelspec": {
   "display_name": "Python 3",
   "language": "python",
   "name": "python3"
  },
  "language_info": {
   "codemirror_mode": {
    "name": "ipython",
    "version": 3
   },
   "file_extension": ".py",
   "mimetype": "text/x-python",
   "name": "python",
   "nbconvert_exporter": "python",
   "pygments_lexer": "ipython3",
   "version": "3.8.5"
  }
 },
 "nbformat": 4,
 "nbformat_minor": 4
}
