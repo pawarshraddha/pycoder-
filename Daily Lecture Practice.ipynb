{
 "cells": [
  {
   "cell_type": "markdown",
   "id": "637c6079",
   "metadata": {},
   "source": [
    "## If else"
   ]
  },
  {
   "cell_type": "code",
   "execution_count": 3,
   "id": "051f8dff",
   "metadata": {},
   "outputs": [
    {
     "name": "stdout",
     "output_type": "stream",
     "text": [
      "given no is negative\n"
     ]
    }
   ],
   "source": [
    "# to check give no is positive or negative using if else command\n",
    "\n",
    "num=-152\n",
    "\n",
    "if num>=0:\n",
    "    print(\"given no is positve\")\n",
    "else:\n",
    "    print(\"given no is negative\")\n",
    "    \n"
   ]
  },
  {
   "cell_type": "code",
   "execution_count": 6,
   "id": "ac67a928",
   "metadata": {},
   "outputs": [
    {
     "name": "stdout",
     "output_type": "stream",
     "text": [
      "Enter your age:23\n",
      "Ye you are young!!!\n"
     ]
    }
   ],
   "source": [
    "age=int(input(\"Enter your age: \"))\n",
    "weight=int(input(\"Enter your weight in Kg : \"))\n",
    "height=int(input(\"Enter your height in meter : \"))\n",
    "BMI= weight/(height^2)\n",
    "if age<=30:\n",
    "    print(\"Ye you are young!!!\")\n",
    "elif age>30 and age<60:\n",
    "    print(\"Ye you are adult!!\")\n",
    "else:\n",
    "    print(\"You are old!\")"
   ]
  },
  {
   "cell_type": "code",
   "execution_count": 35,
   "id": "1304f6fe",
   "metadata": {},
   "outputs": [
    {
     "name": "stdout",
     "output_type": "stream",
     "text": [
      "Enter your weight in Kg : 55\n",
      "Enter your height in meter : 1.49\n",
      "24.77365884419621\n",
      "Congratulations!!! Your BMI is absolutly normal\n"
     ]
    }
   ],
   "source": [
    "weight=int(input(\"Enter your weight in Kg : \"))\n",
    "height=float(input(\"Enter your height in meter : \"))\n",
    "BMI=float(weight/(height*height))\n",
    "print(BMI)\n",
    "\n",
    "if BMI<18:\n",
    "    print(\"You are Uderweight  need to incress your weight \")\n",
    "elif BMI>18 and BMI<25:\n",
    "    print(\"Congratulations!!! Your BMI is absolutly normal\")\n",
    "else:\n",
    "    print(\"You are overweighted need to decress your weight\")\n",
    "#else BMI>30 and BMI<35:\n",
    " #   print(\"You are in obese class need to decress your weight \")\n",
    "    \n",
    "    \n",
    "    "
   ]
  },
  {
   "cell_type": "markdown",
   "id": "5732195a",
   "metadata": {},
   "source": [
    "import matplotlib"
   ]
  },
  {
   "cell_type": "code",
   "execution_count": 20,
   "id": "6f5f1f3d",
   "metadata": {},
   "outputs": [
    {
     "name": "stdout",
     "output_type": "stream",
     "text": [
      "Enter your weight in Kg : 52\n",
      "Enter your height in meter : 1.55\n",
      "21.64412070759625\n"
     ]
    }
   ],
   "source": [
    "weight=int(input(\"Enter your weight in Kg : \"))\n",
    "height=float(input(\"Enter your height in meter : \"))\n",
    "BMI=float(weight/(height*height))\n",
    "print(BMI)\n",
    "#BMI>25 and BMI<30"
   ]
  },
  {
   "cell_type": "markdown",
   "id": "6b7037df",
   "metadata": {},
   "source": [
    "## conversion of meter in feet"
   ]
  },
  {
   "cell_type": "code",
   "execution_count": 36,
   "id": "b3fbc982",
   "metadata": {},
   "outputs": [
    {
     "name": "stdout",
     "output_type": "stream",
     "text": [
      "Enter meter :55\n",
      "180.4462\n"
     ]
    }
   ],
   "source": [
    "meter= float(input(\"Enter meter :\"))\n",
    "feet = 3.28084*meter \n",
    "print(feet)"
   ]
  },
  {
   "cell_type": "code",
   "execution_count": 31,
   "id": "7e8b65e6",
   "metadata": {},
   "outputs": [
    {
     "name": "stdout",
     "output_type": "stream",
     "text": [
      "Enter your number : 155555290\n",
      "odd\n"
     ]
    }
   ],
   "source": [
    "num =int(input(\"Enter your number : \"))\n",
    "if num%2:\n",
    "    print(\"even\")\n",
    "else:\n",
    "    print(\"odd\")\n",
    "    "
   ]
  },
  {
   "cell_type": "code",
   "execution_count": 37,
   "id": "ba33be6a",
   "metadata": {},
   "outputs": [
    {
     "name": "stdout",
     "output_type": "stream",
     "text": [
      "enter your year:2025\n",
      "non leaf year\n"
     ]
    }
   ],
   "source": [
    "num =int(input(\"enter your year:\"))\n",
    "if num%5:\n",
    "    print(\"leaf year\")\n",
    "else:\n",
    "    print(\"non leaf year\")"
   ]
  },
  {
   "cell_type": "code",
   "execution_count": 44,
   "id": "a14f654f",
   "metadata": {},
   "outputs": [
    {
     "name": "stdout",
     "output_type": "stream",
     "text": [
      "Enter your number10\n",
      "0 - Even\n",
      "2 - Even\n",
      "4 - Even\n",
      "6 - Even\n",
      "8 - Even\n"
     ]
    }
   ],
   "source": [
    "n =int(input(\"Enter your number\"))\n",
    "\n",
    "for num in range(0,n,2):\n",
    "    print(num,\"-\",\"Even\")\n",
    "\n"
   ]
  },
  {
   "cell_type": "code",
   "execution_count": 46,
   "id": "8b0434eb",
   "metadata": {},
   "outputs": [
    {
     "name": "stdout",
     "output_type": "stream",
     "text": [
      "Hi tai Good Morning\n",
      "Hi aaka Good Morning\n",
      "Hi anna Good Morning\n",
      "Hi aaji Good Morning\n",
      "Hi sai Good Morning\n"
     ]
    }
   ],
   "source": [
    "list=['tai','aaka','anna','aaji','sai']\n",
    "\n",
    "for person in range(len(list)):\n",
    "    print(\"Hi\",list[person],\"Good Morning\")"
   ]
  },
  {
   "cell_type": "code",
   "execution_count": 61,
   "id": "c0fc57af",
   "metadata": {},
   "outputs": [
    {
     "name": "stdout",
     "output_type": "stream",
     "text": [
      "Enter a number: 2\n",
      "2 x 1 = 2\n"
     ]
    },
    {
     "ename": "TypeError",
     "evalue": "'list' object is not callable",
     "output_type": "error",
     "traceback": [
      "\u001b[1;31m---------------------------------------------------------------------------\u001b[0m",
      "\u001b[1;31mTypeError\u001b[0m                                 Traceback (most recent call last)",
      "\u001b[1;32m<ipython-input-61-3f87aa10e594>\u001b[0m in \u001b[0;36m<module>\u001b[1;34m\u001b[0m\n\u001b[0;32m      8\u001b[0m     \u001b[0mcount\u001b[0m \u001b[1;33m=\u001b[0m \u001b[0mcount\u001b[0m \u001b[1;33m+\u001b[0m \u001b[1;36m1\u001b[0m\u001b[1;33m\u001b[0m\u001b[1;33m\u001b[0m\u001b[0m\n\u001b[0;32m      9\u001b[0m \u001b[1;33m\u001b[0m\u001b[0m\n\u001b[1;32m---> 10\u001b[1;33m     \u001b[0mlist1\u001b[0m\u001b[1;33m=\u001b[0m\u001b[0mlist\u001b[0m\u001b[1;33m(\u001b[0m\u001b[0mproduct\u001b[0m\u001b[1;33m)\u001b[0m\u001b[1;33m\u001b[0m\u001b[1;33m\u001b[0m\u001b[0m\n\u001b[0m\u001b[0;32m     11\u001b[0m     \u001b[0mrevese\u001b[0m\u001b[1;33m(\u001b[0m\u001b[0mlist\u001b[0m\u001b[1;33m)\u001b[0m\u001b[1;33m\u001b[0m\u001b[1;33m\u001b[0m\u001b[0m\n",
      "\u001b[1;31mTypeError\u001b[0m: 'list' object is not callable"
     ]
    }
   ],
   "source": [
    "number = int(input(\"Enter a number: \"))\n",
    "\n",
    "count = 1\n",
    "\n",
    "while count <= 10:\n",
    "    product = number * count\n",
    "    print(number, \"x\", count, \"=\", product)\n",
    "    count = count + 1\n",
    "    \n",
    "    list1=list(product)\n",
    "    revese(list)"
   ]
  },
  {
   "cell_type": "code",
   "execution_count": 57,
   "id": "683dc342",
   "metadata": {},
   "outputs": [
    {
     "name": "stdout",
     "output_type": "stream",
     "text": [
      "5050\n"
     ]
    }
   ],
   "source": [
    "#sum=int(input(\"Enter your no :\"))\n",
    "sum=0\n",
    "for i in range(1,101):\n",
    "    sum=sum+i\n",
    "#   peint(sum)    \n",
    "    \n",
    "print(sum)\n",
    "    "
   ]
  },
  {
   "cell_type": "code",
   "execution_count": null,
   "id": "c1fd8dee",
   "metadata": {},
   "outputs": [],
   "source": []
  },
  {
   "cell_type": "code",
   "execution_count": null,
   "id": "98f8f1f5",
   "metadata": {},
   "outputs": [],
   "source": []
  },
  {
   "cell_type": "code",
   "execution_count": null,
   "id": "717ce233",
   "metadata": {},
   "outputs": [],
   "source": []
  },
  {
   "cell_type": "code",
   "execution_count": null,
   "id": "e4097bfa",
   "metadata": {},
   "outputs": [],
   "source": []
  },
  {
   "cell_type": "code",
   "execution_count": null,
   "id": "afef2e6e",
   "metadata": {},
   "outputs": [],
   "source": []
  },
  {
   "cell_type": "code",
   "execution_count": null,
   "id": "a8366b06",
   "metadata": {},
   "outputs": [],
   "source": []
  },
  {
   "cell_type": "code",
   "execution_count": null,
   "id": "62445b0d",
   "metadata": {},
   "outputs": [],
   "source": []
  }
 ],
 "metadata": {
  "kernelspec": {
   "display_name": "Python 3",
   "language": "python",
   "name": "python3"
  },
  "language_info": {
   "codemirror_mode": {
    "name": "ipython",
    "version": 3
   },
   "file_extension": ".py",
   "mimetype": "text/x-python",
   "name": "python",
   "nbconvert_exporter": "python",
   "pygments_lexer": "ipython3",
   "version": "3.8.8"
  }
 },
 "nbformat": 4,
 "nbformat_minor": 5
}
